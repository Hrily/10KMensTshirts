{
 "cells": [
  {
   "cell_type": "code",
   "execution_count": 23,
   "metadata": {
    "collapsed": false
   },
   "outputs": [],
   "source": [
    "from bs4 import BeautifulSoup\n",
    "import json\n",
    "import csv\n",
    "import time, datetime\n",
    "import requests"
   ]
  },
  {
   "cell_type": "code",
   "execution_count": 24,
   "metadata": {
    "collapsed": true
   },
   "outputs": [],
   "source": [
    "def get_datetime():\n",
    "    return datetime.datetime.utcfromtimestamp(time.time()).strftime('%Y-%m-%d_%H:%M:%S')"
   ]
  },
  {
   "cell_type": "code",
   "execution_count": 25,
   "metadata": {
    "collapsed": false
   },
   "outputs": [],
   "source": [
    "# Mens Tshirt URL\n",
    "url = \"http://www.jabong.com/men/clothing/polos-tshirts/?sort=popularity&dir=desc&limit=2000&page=\"\n",
    "# Open csv file for writing\n",
    "info_csv = open('info_' + get_datetime() + '.csv', 'w')\n",
    "info_writer = csv.writer(info_csv, delimiter=',')\n",
    "# Write headers\n",
    "info_writer.writerow(['ID', 'Title', 'Original Price', 'Discount Price', 'Product URL', 'Product Image URL'])\n",
    "info_writer.writerow([])"
   ]
  },
  {
   "cell_type": "code",
   "execution_count": 27,
   "metadata": {
    "collapsed": false
   },
   "outputs": [
    {
     "name": "stdout",
     "output_type": "stream",
     "text": [
      "Got 100 items in 0:00:00.404302\n",
      "Got 198 items in 0:00:00.352211\n",
      "Got 298 items in 0:00:00.347644\n",
      "Got 398 items in 0:00:00.411996\n",
      "Got 497 items in 0:00:00.349374\n",
      "Got 596 items in 0:00:00.424933\n",
      "Got 694 items in 0:00:00.354724\n",
      "Got 794 items in 0:00:00.345816\n",
      "Got 894 items in 0:00:00.427170\n",
      "Got 994 items in 0:00:00.360525\n",
      "Got 1094 items in 0:00:00.405840\n",
      "Got 1194 items in 0:00:00.366124\n",
      "Got 1294 items in 0:00:00.355564\n",
      "Got 1393 items in 0:00:00.411554\n",
      "Got 1493 items in 0:00:00.349396\n",
      "Got 1593 items in 0:00:00.420140\n",
      "Got 1693 items in 0:00:00.353533\n",
      "Got 1793 items in 0:00:00.344726\n",
      "Got 1892 items in 0:00:00.413604\n",
      "Got 1991 items in 0:00:00.356253\n",
      "Got 2090 items in 0:00:00.361162\n",
      "Got 2190 items in 0:00:00.449522\n",
      "Got 2290 items in 0:00:00.354803\n",
      "Got 2389 items in 0:00:00.423481\n",
      "Got 2488 items in 0:00:00.353197\n",
      "Got 2588 items in 0:00:00.376669\n",
      "Got 2688 items in 0:00:00.453888\n",
      "Got 2787 items in 0:00:00.351019\n",
      "Got 2887 items in 0:00:00.405220\n",
      "Got 2987 items in 0:00:00.357206\n",
      "Got 3086 items in 0:00:00.365177\n",
      "Got 3186 items in 0:00:00.442767\n",
      "Got 3285 items in 0:00:00.357420\n",
      "Got 3384 items in 0:00:00.418052\n",
      "Got 3484 items in 0:00:00.360161\n",
      "Got 3584 items in 0:00:00.357148\n",
      "Got 3684 items in 0:00:00.455184\n",
      "Got 3784 items in 0:00:00.363993\n",
      "Got 3884 items in 0:00:00.427027\n",
      "Got 3983 items in 0:00:00.365247\n",
      "Got 4083 items in 0:00:00.365606\n",
      "Got 4183 items in 0:00:00.443586\n",
      "Got 4283 items in 0:00:00.370643\n",
      "Got 4383 items in 0:00:00.436397\n",
      "Got 4483 items in 0:00:00.365079\n",
      "Got 4582 items in 0:00:00.365936\n",
      "Got 4682 items in 0:00:00.439128\n",
      "Got 4782 items in 0:00:00.358631\n",
      "Got 4882 items in 0:00:00.432451\n",
      "Got 4982 items in 0:00:00.366661\n",
      "Got 5082 items in 0:00:00.374120\n",
      "Got 5182 items in 0:00:00.444750\n",
      "Got 5282 items in 0:00:00.378410\n",
      "Got 5381 items in 0:00:00.356156\n",
      "Got 5481 items in 0:00:00.428120\n",
      "Got 5581 items in 0:00:00.385187\n",
      "Got 5681 items in 0:00:00.419279\n",
      "Got 5781 items in 0:00:00.363763\n",
      "Got 5881 items in 0:00:00.381328\n",
      "Got 5981 items in 0:00:00.472497\n",
      "Got 6081 items in 0:00:00.352506\n",
      "Got 6181 items in 0:00:00.446740\n",
      "Got 6281 items in 0:00:00.369288\n",
      "Got 6380 items in 0:00:00.382611\n",
      "Got 6480 items in 0:00:00.441564\n",
      "Got 6579 items in 0:00:00.358082\n",
      "Got 6679 items in 0:00:00.407923\n",
      "Got 6779 items in 0:00:00.365229\n",
      "Got 6879 items in 0:00:00.363807\n",
      "Got 6978 items in 0:00:00.431766\n",
      "Got 7078 items in 0:00:00.508069\n",
      "Got 7178 items in 0:00:00.433271\n",
      "Got 7278 items in 0:00:00.359643\n",
      "Got 7378 items in 0:00:00.368351\n",
      "Got 7477 items in 0:00:00.440514\n",
      "Got 7577 items in 0:00:00.357088\n",
      "Got 7677 items in 0:00:00.403869\n",
      "Got 7777 items in 0:00:00.360018\n",
      "Got 7877 items in 0:00:00.353221\n",
      "Got 7977 items in 0:00:00.414237\n",
      "Got 8077 items in 0:00:00.356932\n",
      "Got 8177 items in 0:00:00.430315\n",
      "Got 8277 items in 0:00:00.352274\n",
      "Got 8377 items in 0:00:00.378206\n",
      "Got 8477 items in 0:00:00.431342\n",
      "Got 8577 items in 0:00:00.354622\n",
      "Got 8676 items in 0:00:00.380812\n",
      "Got 8776 items in 0:00:00.442453\n",
      "Got 8876 items in 0:00:00.342295\n",
      "Got 8976 items in 0:00:00.418227\n",
      "Got 9076 items in 0:00:00.338958\n",
      "Got 9176 items in 0:00:00.342956\n",
      "Got 9276 items in 0:00:00.449859\n",
      "Got 9376 items in 0:00:00.356111\n",
      "Got 9475 items in 0:00:00.415723\n",
      "Got 9475 items in 0:00:00.000761\n",
      "Got 9575 items in 0:00:00.358083\n",
      "Got 9675 items in 0:00:00.357671\n",
      "Got 9775 items in 0:00:00.429055\n",
      "Got 9875 items in 0:00:00.343642\n",
      "Got 9975 items in 0:00:00.403208\n",
      "Got 10075 items in 0:00:00.377435\n",
      "Total Execution time : 0:04:12.179026\n",
      "Processing time : 0:00:39.279773\n"
     ]
    }
   ],
   "source": [
    "items = 0                   # Items count\n",
    "page = 1                    # Page count\n",
    "proc_time = 0               # Processing time\n",
    "img_urls = []               # Image url list\n",
    "start_time = time.time()    # Start time\n",
    "LIMIT = 10000               # Number of shirts to fetch\n",
    "while items < LIMIT:\n",
    "    # Get contents of Page #page\n",
    "    content = requests.get(url + str(page))\n",
    "    proc_start_time = time.time()\n",
    "    # Cook soup of contents\n",
    "    soup = BeautifulSoup(content.text, 'lxml')\n",
    "    # Get all products\n",
    "    shirts = soup.find_all('div', class_='product-tile')\n",
    "    for shirt in shirts:\n",
    "        # Skip dummy product\n",
    "        if shirt.a['href'] == u'#':\n",
    "            continue\n",
    "        sid = shirt['data-product-id']\n",
    "        title = shirt.find('div', class_='product-info').div.text\n",
    "        prices = shirt.find_all('span', class_='standard-price')\n",
    "        original_price = prices[0].string\n",
    "        # If there is no discount\n",
    "        discount_price = original_price\n",
    "        # Else if there is a discount\n",
    "        if len(prices) > 1:\n",
    "            discount_price = shirt.find_all('span', class_='standard-price')[1].string\n",
    "        surl = shirt.a['href']\n",
    "        js = json.loads(shirt.img['data-img-config'])\n",
    "        img_url = js['base_path'] + js['500']\n",
    "        img_urls.append(img_url)\n",
    "        # Write to csv\n",
    "        row = [sid, title, original_price, discount_price, surl, img_url]\n",
    "        info_writer.writerow([ unicode(s).encode(\"utf-8\") for s in row ])\n",
    "        info_csv.flush()\n",
    "        items += 1\n",
    "    proc_time += time.time() - proc_start_time\n",
    "    print 'Wrote ' + str(items) + ' items in ' + str(datetime.timedelta(seconds=(time.time() - proc_start_time)))\n",
    "    page += 1\n",
    "exec_time = time.time() - start_time\n",
    "exec_time = str(datetime.timedelta(seconds=exec_time))\n",
    "print \"\\nTotal Execution time : \"  + exec_time\n",
    "proc_time = str(datetime.timedelta(seconds=proc_time))\n",
    "print \"Processing time : \"  + proc_time\n",
    "# Close csv file\n",
    "info_csv.close()"
   ]
  },
  {
   "cell_type": "code",
   "execution_count": 29,
   "metadata": {
    "collapsed": false
   },
   "outputs": [],
   "source": [
    "def get_images(imgs):\n",
    "    for img in imgs:\n",
    "        subprocess.call('wget -q -P images \"' + img + '\"',  shell=True)\n",
    "start_time = time.time()\n",
    "get_images(img_urls)\n",
    "fetch_time = time.time() - start_time\n",
    "fetch_time = str(datetime.timedelta(seconds=fetch_time))\n",
    "print \"Images fetched in \" + fetch_time"
   ]
  },
  {
   "cell_type": "code",
   "execution_count": null,
   "metadata": {
    "collapsed": true
   },
   "outputs": [],
   "source": []
  }
 ],
 "metadata": {
  "anaconda-cloud": {},
  "kernelspec": {
   "display_name": "Python [conda root]",
   "language": "python",
   "name": "conda-root-py"
  },
  "language_info": {
   "codemirror_mode": {
    "name": "ipython",
    "version": 2
   },
   "file_extension": ".py",
   "mimetype": "text/x-python",
   "name": "python",
   "nbconvert_exporter": "python",
   "pygments_lexer": "ipython2",
   "version": "2.7.12"
  }
 },
 "nbformat": 4,
 "nbformat_minor": 1
}
